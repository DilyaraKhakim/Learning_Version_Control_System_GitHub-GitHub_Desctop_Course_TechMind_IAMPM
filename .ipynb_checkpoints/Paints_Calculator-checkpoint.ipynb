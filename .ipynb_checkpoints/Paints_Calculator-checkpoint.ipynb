{
 "cells": [
  {
   "cell_type": "markdown",
   "metadata": {
    "id": "KfJYMZwH2UfO"
   },
   "source": [
    "# Калькулятор краски"
   ]
  },
  {
   "cell_type": "markdown",
   "metadata": {},
   "source": [
    "Введите последовательно требуемые параметры, следуя подсказкам программы (необходимо будет поочередно ввести значения - ширина поверхности, м; высота (длина) поверхности, м;  расход краски кв.м / л.; объем банки в литрах, целое число; процент запаса, целое число) для получения результирующих показателей (площадь окрашивания, количество литров, количество банок, неиспользуемых литров краски)."
   ]
  },
  {
   "cell_type": "code",
   "execution_count": 1,
   "metadata": {
    "colab": {
     "base_uri": "https://localhost:8080/"
    },
    "id": "QE-FAQ2o2U9h",
    "outputId": "64e4c4ae-2f82-44fc-ffd8-4cc6c4bb854c"
   },
   "outputs": [
    {
     "name": "stdout",
     "output_type": "stream",
     "text": [
      "Введите значение ширины поверхности в метрах: \n",
      "2\n",
      "Введите значение высоты (длины) поверхности в метрах: \n",
      "4\n",
      "Введите значение расхода краски в кв.м / л.: \n",
      "0.5\n",
      "Введите значение объема банки в литрах (целое число): \n",
      "5\n",
      "Введите значение процента запаса (целое число): \n",
      "10\n",
      "Площадь окрашивания равна: \n",
      "8.0\n",
      "Количество литров равно: \n",
      "17.6\n",
      "Количество банок равно: \n",
      "4\n",
      "Количество неиспользуемых литров краски равно: \n",
      "2.4\n"
     ]
    }
   ],
   "source": [
    "print('Введите значение ширины поверхности в метрах: ')\n",
    "surface_width = float(input()) # ширина поверхности, м\n",
    "\n",
    "print('Введите значение высоты (длины) поверхности в метрах: ')\n",
    "surface_height = float(input()) # высота (длина) поверхности, м\n",
    "\n",
    "print('Введите значение расхода краски в кв.м / л.: ')\n",
    "paints_in_meters_to_liter = float(input()) # расход краски кв.м / л.\n",
    "\n",
    "print('Введите значение объема банки в литрах (целое число): ')\n",
    "tin_of_paint_in_liters = int(input()) # объем банки в литрах, целое число\n",
    "\n",
    "print('Введите значение процента запаса (целое число): ')\n",
    "reserve_percent = int(input()) # процент запаса, целое число\n",
    "\n",
    "\n",
    "surface_area = surface_width * surface_height # площадь окрашивания\n",
    "number_of_liters = (surface_area / paints_in_meters_to_liter) * (1 + reserve_percent / 100) # количество литров\n",
    "number_of_tins = int(number_of_liters // tin_of_paint_in_liters + 1) # количество банок\n",
    "not_used_paints_in_liters = number_of_tins * tin_of_paint_in_liters - number_of_liters  # неиспользуемых литров краски\n",
    "\n",
    "print('Площадь окрашивания равна: ')\n",
    "print(round(surface_area, 2))\n",
    "\n",
    "print('Количество литров равно: ')\n",
    "print(round(number_of_liters, 2))\n",
    "\n",
    "print('Количество банок равно: ')\n",
    "print(number_of_tins)\n",
    "\n",
    "print('Количество неиспользуемых литров краски равно: ')\n",
    "print(round(not_used_paints_in_liters, 2))"
   ]
  }
 ],
 "metadata": {
  "colab": {
   "name": "Paints_Calculator.ipynb",
   "provenance": []
  },
  "kernelspec": {
   "display_name": "Python 3",
   "language": "python",
   "name": "python3"
  },
  "language_info": {
   "codemirror_mode": {
    "name": "ipython",
    "version": 3
   },
   "file_extension": ".py",
   "mimetype": "text/x-python",
   "name": "python",
   "nbconvert_exporter": "python",
   "pygments_lexer": "ipython3",
   "version": "3.8.5"
  }
 },
 "nbformat": 4,
 "nbformat_minor": 1
}
